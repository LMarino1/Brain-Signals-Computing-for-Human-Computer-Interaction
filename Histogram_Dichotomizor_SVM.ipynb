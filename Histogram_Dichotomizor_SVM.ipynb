{
 "cells": [
  {
   "cell_type": "code",
   "execution_count": 1,
   "metadata": {},
   "outputs": [
    {
     "data": {
      "text/plain": [
       "<mne.utils.use_log_level at 0x10f3a3278>"
      ]
     },
     "execution_count": 1,
     "metadata": {},
     "output_type": "execute_result"
    }
   ],
   "source": [
    "import mne\n",
    "import pandas as pd\n",
    "import matplotlib.pyplot as plt\n",
    "import numpy as np\n",
    "import itertools\n",
    "from scipy import signal\n",
    "from scipy.stats import entropy\n",
    "mne.utils.use_log_level('error')"
   ]
  },
  {
   "cell_type": "code",
   "execution_count": 2,
   "metadata": {},
   "outputs": [],
   "source": [
    "#Add new featres in feature list and again in getFeatures method's \"flist\"\n",
    "feature_list = ['Mean', 'Median', 'StdDev','Mean/StdDev','Skew','Kurt']\n",
    "columns = ['Subject','Test', 'Channel', *feature_list]"
   ]
  },
  {
   "cell_type": "code",
   "execution_count": 3,
   "metadata": {},
   "outputs": [],
   "source": [
    "#subject = subject number\n",
    "#testtype = VR or Non-VR\n",
    "def loadRawData(subject, testtype):\n",
    "    path = \"Preprocessed_Data/Subject-\"+str(subject)+\"_\"+testtype+\".fif\"\n",
    "    raw = mne.io.read_raw_fif(path, verbose='error')\n",
    "    return raw\n",
    "\n",
    "def getFeatures(raw, time):\n",
    "    features = pd.DataFrame(columns = feature_list)\n",
    "    for i in range(time[0],time[1],5): \n",
    "        start, stop = raw.time_as_index([i, i+5])\n",
    "        \n",
    "        #only looking at CH 4\n",
    "        picks = mne.pick_types(raw.info, eeg=True, exclude=['CH 1','CH 2','CH 3','CH 5','CH 6','CH 7','CH 8'])\n",
    "        \n",
    "        try:    \n",
    "            d, t = raw[picks[:], start:stop]\n",
    "            ds = pd.DataFrame(d[0])\n",
    "            #normalize\n",
    "            #ds = (ds-ds.mean())/(ds.max()-ds.min())\n",
    "            \n",
    "            mean = ds.mean()[0]\n",
    "            median = ds.median()[0]\n",
    "            std = ds.std()[0]\n",
    "            mos = mean/std\n",
    "            skew = ds.skew()[0]\n",
    "            kurt = ds.kurt()[0]\n",
    "            \n",
    "            #add new features here too \n",
    "            flist = [mean, median, std, mos, skew, kurt]\n",
    "            features = features.append(pd.Series(flist, index=feature_list), ignore_index=True)\n",
    "        except:\n",
    "            continue\n",
    "    return features\n",
    "\n",
    "def getDataFrame(f, data):\n",
    "    for j in range(len(f)):\n",
    "        fl = [None]*len(feature_list)\n",
    "        k=0\n",
    "        for feature in feature_list:\n",
    "            fl[k] = f[feature][j]\n",
    "            k+=1\n",
    "        data = data.append(pd.Series([i, 'VR', 'CH 4', *fl], index=columns), ignore_index=True)\n",
    "    return data"
   ]
  },
  {
   "cell_type": "code",
   "execution_count": 4,
   "metadata": {},
   "outputs": [],
   "source": [
    "#Test 1\n",
    "#testtype = VR or Non-VR\n",
    "df1 = pd.DataFrame(columns = columns)\n",
    "df2 = pd.DataFrame(columns = columns)\n",
    "for i in range(1,33):\n",
    "    data = loadRawData(i,\"VR\")\n",
    "    f = getFeatures(raw=data, time=(55,110))\n",
    "    df1 = getDataFrame(f,df1)\n",
    "    \n",
    "    f = getFeatures(raw=data, time=(110,165))\n",
    "    df2 = getDataFrame(f,df2)"
   ]
  },
  {
   "cell_type": "code",
   "execution_count": null,
   "metadata": {},
   "outputs": [],
   "source": []
  },
  {
   "cell_type": "code",
   "execution_count": null,
   "metadata": {},
   "outputs": [],
   "source": []
  },
  {
   "cell_type": "code",
   "execution_count": 5,
   "metadata": {},
   "outputs": [],
   "source": [
    "def distanceCalculation(df):\n",
    "    subs = df['Subject'].unique()    # All subjects\n",
    "    all_subs= list(itertools.combinations(subs, 2)) # All possible combination for all subjects\n",
    "\n",
    "    distance_col = ['Subject',*feature_list, 'Type']\n",
    "    intra_data = pd.DataFrame(columns = distance_col)\n",
    "\n",
    "    #Intra Distance Computation (Same Person)\n",
    "    for sub in subs:\n",
    "        rows = df.loc[df['Subject'] == sub]\n",
    "        each_comb = list(itertools.combinations(rows.index, 2))\n",
    "        for i in range(len(each_comb)):\n",
    "            comb = each_comb[i]\n",
    "            fdr = absDistance(df, feature_list, comb[0], comb[1])\n",
    "            intra_data = intra_data.append(pd.Series([sub,*fdr,0], index=distance_col), ignore_index=True)\n",
    "    \n",
    "    inter_data = pd.DataFrame(columns = distance_col)\n",
    "    # Inter Distance Computation (Different Person) \n",
    "    all_rows=len(df)\n",
    "    for sub_pair in all_subs: # Pairs of subjets\n",
    "        sp1 = df.loc[df['Subject'] == sub_pair[0]].index\n",
    "        sp2 = df.loc[df['Subject'] == sub_pair[1]].index\n",
    "        for i in range(len(sp1)):\n",
    "            for j in range(len(sp2)):\n",
    "                fdr = absDistance(df, feature_list, sp1[i], sp2[j])\n",
    "                inter_data = inter_data.append(pd.Series([sub_pair, *fdr, 1], index=distance_col), ignore_index=True)    \n",
    "    return intra_data, inter_data\n",
    "\n",
    "def absDistance(df, features, s1, s2):\n",
    "    r=0\n",
    "    fdr = [None]*len(features)\n",
    "    for feature in features:\n",
    "        f1 = df.iloc[s1][feature] \n",
    "        f2 = df.iloc[s2][feature] \n",
    "        Inter_dis = np.absolute(f1-f2) # absolute difference\n",
    "        fdr[r] = Inter_dis\n",
    "        r+=1\n",
    "    return fdr"
   ]
  },
  {
   "cell_type": "code",
   "execution_count": 6,
   "metadata": {},
   "outputs": [],
   "source": [
    "#15 min to run both (6 fetures), 18 min (8 features) - 4/17\n",
    "intra1, inter1 = distanceCalculation(df1)\n",
    "intra2, inter2 = distanceCalculation(df2)"
   ]
  },
  {
   "cell_type": "code",
   "execution_count": 7,
   "metadata": {},
   "outputs": [
    {
     "name": "stdout",
     "output_type": "stream",
     "text": [
      "Sample 1:\n",
      "Intra length: 1595\n",
      "Inter length: 49126\n",
      "Sample 2:\n",
      "Intra length: 1595\n",
      "Inter length: 49126\n"
     ]
    }
   ],
   "source": [
    "print(\"Sample 1:\")\n",
    "print(\"Intra length: \"+str(len(intra1)))\n",
    "print(\"Inter length: \"+str(len(inter1)))\n",
    "print(\"Sample 2:\")\n",
    "print(\"Intra length: \"+str(len(intra2)))\n",
    "print(\"Inter length: \"+str(len(inter2)))"
   ]
  },
  {
   "cell_type": "code",
   "execution_count": 8,
   "metadata": {},
   "outputs": [],
   "source": [
    "import random\n",
    "#takes subframe and returns a more managble table for SVM\n",
    "def get_SVM_Table(intra, inter):\n",
    "    svmTable = pd.DataFrame()\n",
    "    rands = random.sample(range(0, len(intra)), 1500)\n",
    "    for rand in rands:\n",
    "        svmTable = svmTable.append(intra.iloc[rand],ignore_index=True)\n",
    "    \n",
    "    rands = random.sample(range(0, len(inter)), 1500)\n",
    "    for rand in rands:\n",
    "        svmTable = svmTable.append(inter.iloc[rand],ignore_index=True)\n",
    "    return svmTable"
   ]
  },
  {
   "cell_type": "code",
   "execution_count": 9,
   "metadata": {},
   "outputs": [],
   "source": [
    "svm1 = get_SVM_Table(intra1,inter1)\n",
    "svm2 = get_SVM_Table(intra2,inter2)"
   ]
  },
  {
   "cell_type": "code",
   "execution_count": 10,
   "metadata": {},
   "outputs": [],
   "source": [
    "all_svm = pd.concat([svm1, svm2], ignore_index=True)"
   ]
  },
  {
   "cell_type": "code",
   "execution_count": 11,
   "metadata": {},
   "outputs": [],
   "source": [
    "from sklearn.svm import SVC\n",
    "from sklearn.model_selection import train_test_split\n",
    "from sklearn.metrics import confusion_matrix, classification_report, accuracy_score"
   ]
  },
  {
   "cell_type": "code",
   "execution_count": 12,
   "metadata": {},
   "outputs": [],
   "source": [
    "def svmTest(svm):\n",
    "    X = svm.drop(['Subject','Type'], axis=1)\n",
    "    y = svm[\"Type\"]\n",
    "    X_train, X_test, y_train, y_test = train_test_split(X, y, test_size=0.3, random_state=101)\n",
    "    \n",
    "    model = SVC(C=1.0, kernel = 'rbf', degree=3, gamma=0.1)\n",
    "    model.fit(X_train, y_train)\n",
    "    prediction = model.predict(X_test)\n",
    "    print(confusion_matrix(y_test, prediction))\n",
    "    print(classification_report(y_test, prediction))\n",
    "    print(\"Accuracy: \"+str(accuracy_score(y_test, prediction)))"
   ]
  },
  {
   "cell_type": "code",
   "execution_count": 13,
   "metadata": {
    "scrolled": false
   },
   "outputs": [
    {
     "name": "stdout",
     "output_type": "stream",
     "text": [
      "Test 1:\n",
      "[[330 148]\n",
      " [117 305]]\n",
      "              precision    recall  f1-score   support\n",
      "\n",
      "         0.0       0.74      0.69      0.71       478\n",
      "         1.0       0.67      0.72      0.70       422\n",
      "\n",
      "   micro avg       0.71      0.71      0.71       900\n",
      "   macro avg       0.71      0.71      0.71       900\n",
      "weighted avg       0.71      0.71      0.71       900\n",
      "\n",
      "Accuracy: 0.7055555555555556\n",
      "\n",
      "Test 2:\n",
      "[[368 110]\n",
      " [111 311]]\n",
      "              precision    recall  f1-score   support\n",
      "\n",
      "         0.0       0.77      0.77      0.77       478\n",
      "         1.0       0.74      0.74      0.74       422\n",
      "\n",
      "   micro avg       0.75      0.75      0.75       900\n",
      "   macro avg       0.75      0.75      0.75       900\n",
      "weighted avg       0.75      0.75      0.75       900\n",
      "\n",
      "Accuracy: 0.7544444444444445\n",
      "\n",
      "Test All:\n",
      "[[668 240]\n",
      " [260 632]]\n",
      "              precision    recall  f1-score   support\n",
      "\n",
      "         0.0       0.72      0.74      0.73       908\n",
      "         1.0       0.72      0.71      0.72       892\n",
      "\n",
      "   micro avg       0.72      0.72      0.72      1800\n",
      "   macro avg       0.72      0.72      0.72      1800\n",
      "weighted avg       0.72      0.72      0.72      1800\n",
      "\n",
      "Accuracy: 0.7222222222222222\n"
     ]
    }
   ],
   "source": [
    "print('Test 1:')\n",
    "svmTest(svm1)\n",
    "print('')\n",
    "print('Test 2:')\n",
    "svmTest(svm2)\n",
    "print('')\n",
    "print('Test All:')\n",
    "svmTest(all_svm)"
   ]
  },
  {
   "cell_type": "code",
   "execution_count": null,
   "metadata": {},
   "outputs": [],
   "source": []
  },
  {
   "cell_type": "code",
   "execution_count": null,
   "metadata": {},
   "outputs": [],
   "source": []
  },
  {
   "cell_type": "code",
   "execution_count": null,
   "metadata": {},
   "outputs": [],
   "source": []
  }
 ],
 "metadata": {
  "kernelspec": {
   "display_name": "Python 3",
   "language": "python",
   "name": "python3"
  },
  "language_info": {
   "codemirror_mode": {
    "name": "ipython",
    "version": 3
   },
   "file_extension": ".py",
   "mimetype": "text/x-python",
   "name": "python",
   "nbconvert_exporter": "python",
   "pygments_lexer": "ipython3",
   "version": "3.7.2"
  }
 },
 "nbformat": 4,
 "nbformat_minor": 2
}

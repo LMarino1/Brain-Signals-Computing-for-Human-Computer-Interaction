{
 "cells": [
  {
   "cell_type": "code",
   "execution_count": 1,
   "metadata": {
    "scrolled": false
   },
   "outputs": [],
   "source": [
    "import mne\n",
    "import pandas as pd\n",
    "import numpy as np\n",
    "import matplotlib.pyplot as plt\n",
    "import copy"
   ]
  },
  {
   "cell_type": "code",
   "execution_count": 2,
   "metadata": {
    "scrolled": false
   },
   "outputs": [],
   "source": [
    "#subject = subject number\n",
    "#type = VR or Non-VR\n",
    "def loadSubjectData(subject, type):\n",
    "    path = \"Pre-Processed Data/subject-\"+subject+\"/\"+type+\"/Subject-\"+subject+\"_\"+type+\".fif\"\n",
    "    raw = mne.io.read_raw_fif(path, preload=True, verbose='error')\n",
    "    return raw\n",
    "\n",
    "#load specific channel, would be better if channel could be named instead of giving an index\n",
    "def loadChannelData(raw, ch):\n",
    "    ch_names = raw.info['ch_names']\n",
    "    dataset=[]\n",
    "    raw.load_data()\n",
    "    temp = copy.deepcopy(raw)\n",
    "    raw_pick = temp.pick_channels([ch_names[ch]])\n",
    "    start, stop = raw_pick.time_as_index([5,175])\n",
    "    picks = mne.pick_types(raw_pick.info, eeg=True, exclude=[])\n",
    "    data, times = raw_pick[picks[:], start:stop]\n",
    "    dataset = data[0]\n",
    "    dataset = trimData(dataset)\n",
    "    return dataset;\n",
    "    \n",
    "#trim any outliers that go beyond -100 and 100\n",
    "def trimData(data):\n",
    "    data = list(data)\n",
    "    y=len(data)\n",
    "    x=0\n",
    "    while x < y:\n",
    "        if(data[x]>100 or data[x]<-100):\n",
    "            data.pop(x)\n",
    "            x-=1\n",
    "            y=len(data)\n",
    "        x+=1\n",
    "    return data"
   ]
  },
  {
   "cell_type": "code",
   "execution_count": 45,
   "metadata": {
    "scrolled": false
   },
   "outputs": [],
   "source": [
    "#Change subject, VR/Non-VR, and channel here\n",
    "subject = loadSubjectData(\"8\",\"Non-VR\")\n",
    "channel = loadChannelData(subject, 2)"
   ]
  },
  {
   "cell_type": "code",
   "execution_count": 49,
   "metadata": {
    "scrolled": false
   },
   "outputs": [
    {
     "data": {
      "image/png": "[encoded data removed]",
      "text/plain": [
       "<Figure size 432x288 with 1 Axes>"
      ]
     },
     "metadata": {
      "needs_background": "light"
     },
     "output_type": "display_data"
    }
   ],
   "source": [
    "df = pd.DataFrame(channel)\n",
    "df.columns = ['Channel 1']\n",
    "density, division = np.histogram(df, range=(-100,100), bins=1000, density=True)\n",
    "df.plot(kind='hist', density=True, bins=division)\n",
    "\n",
    "df2 = pd.DataFrame(data=[division,density])\n",
    "d = df2.transpose()\n",
    "d.dropna(inplace=True)\n",
    "#print all\n",
    "#with pd.option_context('display.max_rows', None, 'display.max_columns', None):\n",
    "    #print(d)"
   ]
  },
  {
   "cell_type": "code",
   "execution_count": 50,
   "metadata": {
    "scrolled": false
   },
   "outputs": [],
   "source": [
    "#cross_val_score requires int\n",
    "#only run this once\n",
    "for i in range(len(d[1])):\n",
    "    d[1][i]= int(d[1][i]*1000000)"
   ]
  },
  {
   "cell_type": "code",
   "execution_count": 52,
   "metadata": {
    "scrolled": false
   },
   "outputs": [
    {
     "name": "stdout",
     "output_type": "stream",
     "text": [
      "Accuracy: 80.7%\n"
     ]
    },
    {
     "name": "stderr",
     "output_type": "stream",
     "text": [
      "/Library/Frameworks/Python.framework/Versions/3.7/lib/python3.7/site-packages/sklearn/model_selection/_split.py:652: Warning: The least populated class in y has only 1 members, which is too few. The minimum number of members in any class cannot be less than n_splits=3.\n",
      "  % (min_groups, self.n_splits)), Warning)\n"
     ]
    }
   ],
   "source": [
    "from sklearn.ensemble import RandomForestClassifier\n",
    "from sklearn.model_selection import cross_val_score\n",
    "\n",
    "clf = RandomForestClassifier(n_estimators=10)\n",
    "scores = cross_val_score(clf, d, d[1], scoring='accuracy', cv=3)\n",
    "print(\"Accuracy: {0:.1f}%\".format(np.mean(scores) * 100))"
   ]
  },
  {
   "cell_type": "code",
   "execution_count": null,
   "metadata": {},
   "outputs": [],
   "source": []
  },
  {
   "cell_type": "code",
   "execution_count": null,
   "metadata": {},
   "outputs": [],
   "source": []
  }
 ],
 "metadata": {
  "kernelspec": {
   "display_name": "Python 3",
   "language": "python",
   "name": "python3"
  },
  "language_info": {
   "codemirror_mode": {
    "name": "ipython",
    "version": 3
   },
   "file_extension": ".py",
   "mimetype": "text/x-python",
   "name": "python",
   "nbconvert_exporter": "python",
   "pygments_lexer": "ipython3",
   "version": "3.7.2"
  }
 },
 "nbformat": 4,
 "nbformat_minor": 2
}

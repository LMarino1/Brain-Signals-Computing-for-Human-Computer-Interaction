{
 "cells": [
  {
   "cell_type": "code",
   "execution_count": 70,
   "metadata": {},
   "outputs": [
    {
     "data": {
      "text/plain": [
       "<mne.utils.use_log_level at 0x1297d9860>"
      ]
     },
     "execution_count": 70,
     "metadata": {},
     "output_type": "execute_result"
    }
   ],
   "source": [
    "import mne\n",
    "import pandas as pd\n",
    "import matplotlib.pyplot as plt\n",
    "import numpy as np\n",
    "import itertools\n",
    "from scipy import signal\n",
    "from scipy.stats import entropy\n",
    "mne.utils.use_log_level('error')"
   ]
  },
  {
   "cell_type": "code",
   "execution_count": 71,
   "metadata": {},
   "outputs": [],
   "source": [
    "#Add new featres in feature list and again in getFeatures method's \"flist\"\n",
    "feature_list = ['Mean', 'Median', 'StdDev','CoV','Skew','Kurt']\n",
    "columns = ['Subject','Test', 'Channel', *feature_list]"
   ]
  },
  {
   "cell_type": "code",
   "execution_count": 93,
   "metadata": {},
   "outputs": [],
   "source": [
    "#subject = subject number\n",
    "#testtype = VR or Non-VR\n",
    "def loadRawData(subject, testtype):\n",
    "    path = \"Preprocessed_Data/Subject-\"+str(subject)+\"_\"+testtype+\".fif\"\n",
    "    raw = mne.io.read_raw_fif(path, verbose='error')\n",
    "    return raw\n",
    "\n",
    "def getFeatures(raw, time):\n",
    "    features = pd.DataFrame(columns = feature_list)\n",
    "    for i in range(time[0],time[1],5): \n",
    "        start, stop = raw.time_as_index([i, i+5])\n",
    "        \n",
    "        #only looking at CH 4\n",
    "        picks = mne.pick_types(raw.info, eeg=True, exclude=['CH 1','CH 2','CH 3','CH 5','CH 6','CH 7','CH 8'])\n",
    "        \n",
    "        try:    \n",
    "            d, t = raw[picks[:], start:stop]\n",
    "            ds = pd.DataFrame(d[0])\n",
    "            #normalize\n",
    "            #ds = (ds-ds.mean())/(ds.max()-ds.min())\n",
    "            \n",
    "            mean = ds.mean()[0]\n",
    "            median = ds.median()[0]\n",
    "            std = ds.std()[0]\n",
    "            mos = mean/std\n",
    "            skew = ds.skew()[0]\n",
    "            kurt = ds.kurt()[0]\n",
    "            \n",
    "            #add new features here too \n",
    "            flist = [mean, median, std, mos, skew, kurt]\n",
    "            features = features.append(pd.Series(flist, index=feature_list), ignore_index=True)\n",
    "        except:\n",
    "            continue\n",
    "    return features\n",
    "\n",
    "def getDataFrame(f, data, s):\n",
    "    for j in range(len(f)):\n",
    "        fl = [None]*len(feature_list)\n",
    "        k=0\n",
    "        for feature in feature_list:\n",
    "            fl[k] = f[feature][j]\n",
    "            k+=1\n",
    "        data = data.append(pd.Series([s, 'VR', 'CH 4', *fl], index=columns), ignore_index=True)\n",
    "    return data\n",
    "\n",
    "\n",
    "def getDiff(df):\n",
    "    diffDF = df.copy()\n",
    "    if('Subject' in df.columns):\n",
    "        diffDF.drop(['Subject'], axis=1, inplace=True)\n",
    "        diffDF.drop(['Test'], axis=1, inplace=True)\n",
    "        diffDF.drop(['Channel'], axis=1, inplace=True)\n",
    "    diffDF = diffDF.diff().dropna()\n",
    "    return diffDF"
   ]
  },
  {
   "cell_type": "code",
   "execution_count": 73,
   "metadata": {},
   "outputs": [],
   "source": [
    "#Test 1\n",
    "#testtype = VR or Non-VR\n",
    "df1 = pd.DataFrame(columns = columns)\n",
    "for i in range(1,33):\n",
    "    data = loadRawData(i,\"VR\")\n",
    "    f = getFeatures(raw=data, time=(60,120))\n",
    "    df1 = getDataFrame(f,df1,i)"
   ]
  },
  {
   "cell_type": "code",
   "execution_count": 74,
   "metadata": {},
   "outputs": [],
   "source": [
    "df = df1"
   ]
  },
  {
   "cell_type": "code",
   "execution_count": 75,
   "metadata": {},
   "outputs": [
    {
     "data": {
      "text/html": [
       "<div>\n",
       "<style scoped>\n",
       "    .dataframe tbody tr th:only-of-type {\n",
       "        vertical-align: middle;\n",
       "    }\n",
       "\n",
       "    .dataframe tbody tr th {\n",
       "        vertical-align: top;\n",
       "    }\n",
       "\n",
       "    .dataframe thead th {\n",
       "        text-align: right;\n",
       "    }\n",
       "</style>\n",
       "<table border=\"1\" class=\"dataframe\">\n",
       "  <thead>\n",
       "    <tr style=\"text-align: right;\">\n",
       "      <th></th>\n",
       "      <th>Subject</th>\n",
       "      <th>Test</th>\n",
       "      <th>Channel</th>\n",
       "      <th>Mean</th>\n",
       "      <th>Median</th>\n",
       "      <th>StdDev</th>\n",
       "      <th>CoV</th>\n",
       "      <th>Skew</th>\n",
       "      <th>Kurt</th>\n",
       "    </tr>\n",
       "  </thead>\n",
       "  <tbody>\n",
       "    <tr>\n",
       "      <th>0</th>\n",
       "      <td>1</td>\n",
       "      <td>VR</td>\n",
       "      <td>CH 4</td>\n",
       "      <td>0.016971</td>\n",
       "      <td>-0.569254</td>\n",
       "      <td>7.855022</td>\n",
       "      <td>0.002160</td>\n",
       "      <td>0.756513</td>\n",
       "      <td>4.314372</td>\n",
       "    </tr>\n",
       "    <tr>\n",
       "      <th>1</th>\n",
       "      <td>1</td>\n",
       "      <td>VR</td>\n",
       "      <td>CH 4</td>\n",
       "      <td>0.073224</td>\n",
       "      <td>-0.227175</td>\n",
       "      <td>9.066625</td>\n",
       "      <td>0.008076</td>\n",
       "      <td>0.399206</td>\n",
       "      <td>2.627498</td>\n",
       "    </tr>\n",
       "    <tr>\n",
       "      <th>2</th>\n",
       "      <td>1</td>\n",
       "      <td>VR</td>\n",
       "      <td>CH 4</td>\n",
       "      <td>-0.050970</td>\n",
       "      <td>-0.411724</td>\n",
       "      <td>7.046158</td>\n",
       "      <td>-0.007234</td>\n",
       "      <td>1.086018</td>\n",
       "      <td>4.213718</td>\n",
       "    </tr>\n",
       "    <tr>\n",
       "      <th>3</th>\n",
       "      <td>1</td>\n",
       "      <td>VR</td>\n",
       "      <td>CH 4</td>\n",
       "      <td>0.038742</td>\n",
       "      <td>-0.453701</td>\n",
       "      <td>7.845483</td>\n",
       "      <td>0.004938</td>\n",
       "      <td>1.220575</td>\n",
       "      <td>4.716822</td>\n",
       "    </tr>\n",
       "    <tr>\n",
       "      <th>4</th>\n",
       "      <td>1</td>\n",
       "      <td>VR</td>\n",
       "      <td>CH 4</td>\n",
       "      <td>-0.176283</td>\n",
       "      <td>-0.600765</td>\n",
       "      <td>8.047743</td>\n",
       "      <td>-0.021905</td>\n",
       "      <td>0.777629</td>\n",
       "      <td>3.141390</td>\n",
       "    </tr>\n",
       "  </tbody>\n",
       "</table>\n",
       "</div>"
      ],
      "text/plain": [
       "  Subject Test Channel      Mean    Median    StdDev       CoV      Skew  \\\n",
       "0       1   VR    CH 4  0.016971 -0.569254  7.855022  0.002160  0.756513   \n",
       "1       1   VR    CH 4  0.073224 -0.227175  9.066625  0.008076  0.399206   \n",
       "2       1   VR    CH 4 -0.050970 -0.411724  7.046158 -0.007234  1.086018   \n",
       "3       1   VR    CH 4  0.038742 -0.453701  7.845483  0.004938  1.220575   \n",
       "4       1   VR    CH 4 -0.176283 -0.600765  8.047743 -0.021905  0.777629   \n",
       "\n",
       "       Kurt  \n",
       "0  4.314372  \n",
       "1  2.627498  \n",
       "2  4.213718  \n",
       "3  4.716822  \n",
       "4  3.141390  "
      ]
     },
     "execution_count": 75,
     "metadata": {},
     "output_type": "execute_result"
    }
   ],
   "source": [
    "df.head()"
   ]
  },
  {
   "cell_type": "code",
   "execution_count": 76,
   "metadata": {},
   "outputs": [],
   "source": [
    "#feature_list = ['Mean', 'Median', 'StdDev','CoV','Skew','Kurt', \n",
    "#                'Dif1 Mean', 'Dif1 Median', 'Dif1 StdDev','Dif1 CoV','Dif1 Skew','Dif1 Kurt',\n",
    "#                'Dif2 Mean', 'Dif2 Median', 'Dif2 StdDev','Dif2 CoV','Dif2 Skew','Dif2 Kurt']\n",
    "#columns = ['Subject','Test', 'Channel', *feature_list]\n",
    "\n",
    "#df = pd.concat([df1, df2, df3], axis=1)\n",
    "#df.columns = columns\n",
    "#df = df.dropna()"
   ]
  },
  {
   "cell_type": "code",
   "execution_count": 77,
   "metadata": {},
   "outputs": [],
   "source": [
    "#with pd.option_context('display.max_rows', None, 'display.max_columns', None):  # more options can be specified also\n",
    "    #print(df)"
   ]
  },
  {
   "cell_type": "code",
   "execution_count": 78,
   "metadata": {},
   "outputs": [],
   "source": [
    "def distanceCalculation(df):\n",
    "    subs = df['Subject'].unique()    # All subjects\n",
    "    all_subs= list(itertools.combinations(subs, 2)) # All possible combination for all subjects\n",
    "\n",
    "    distance_col = ['Subject',*feature_list, 'Type']\n",
    "    intra_data = pd.DataFrame(columns = distance_col)\n",
    "\n",
    "    #Intra Distance Computation (Same Person)\n",
    "    for sub in subs:\n",
    "        rows = df.loc[df['Subject'] == sub]\n",
    "        each_comb = list(itertools.combinations(rows.index, 2))\n",
    "        for i in range(len(each_comb)):\n",
    "            comb = each_comb[i]\n",
    "            fdr = absDistance(df, feature_list, comb[0], comb[1])\n",
    "            intra_data = intra_data.append(pd.Series([sub,*fdr,0], index=distance_col), ignore_index=True)\n",
    "    \n",
    "    inter_data = pd.DataFrame(columns = distance_col)\n",
    "    # Inter Distance Computation (Different Person) \n",
    "    all_rows=len(df)\n",
    "    for sub_pair in all_subs: # Pairs of subjets\n",
    "        sp1 = df.loc[df['Subject'] == sub_pair[0]].index\n",
    "        sp2 = df.loc[df['Subject'] == sub_pair[1]].index\n",
    "        for i in range(len(sp1)):\n",
    "            for j in range(len(sp2)):\n",
    "                fdr = absDistance(df, feature_list, sp1[i], sp2[j])\n",
    "                inter_data = inter_data.append(pd.Series([sub_pair, *fdr, 1], index=distance_col), ignore_index=True)    \n",
    "    return intra_data, inter_data\n",
    "\n",
    "def absDistance(df, features, s1, s2):\n",
    "    r=0\n",
    "    fdr = [None]*len(features)\n",
    "    for feature in features:\n",
    "        f1 = df.iloc[s1][feature]\n",
    "        f2 = df.iloc[s2][feature]\n",
    "        Inter_dis = np.absolute(f1-f2) # absolute difference\n",
    "        fdr[r] = Inter_dis\n",
    "        r+=1\n",
    "    return fdr"
   ]
  },
  {
   "cell_type": "code",
   "execution_count": 79,
   "metadata": {},
   "outputs": [],
   "source": [
    "#15 min to run (6 fetures), 18 min (8 features) - 4/17 - 15 minutes (18 features)\n",
    "intra1, inter1 = distanceCalculation(df)\n"
   ]
  },
  {
   "cell_type": "code",
   "execution_count": 80,
   "metadata": {},
   "outputs": [
    {
     "name": "stdout",
     "output_type": "stream",
     "text": [
      "Intra length: 1914\n",
      "Inter length: 58464\n"
     ]
    }
   ],
   "source": [
    "print(\"Intra length: \"+str(len(intra1)))\n",
    "print(\"Inter length: \"+str(len(inter1)))"
   ]
  },
  {
   "cell_type": "code",
   "execution_count": 82,
   "metadata": {},
   "outputs": [],
   "source": [
    "import random\n",
    "random.seed(1234)\n",
    "#takes subframe and returns a more managble table for SVM\n",
    "def get_SVM_Table(intra, inter):\n",
    "    svmTable = pd.DataFrame()\n",
    "    rands = random.sample(range(0, len(intra)), 1900)\n",
    "    for rand in rands:\n",
    "        svmTable = svmTable.append(intra.iloc[rand],ignore_index=True)\n",
    "    \n",
    "    rands = random.sample(range(0, len(inter)), 1900)\n",
    "    for rand in rands:\n",
    "        svmTable = svmTable.append(inter.iloc[rand],ignore_index=True)\n",
    "    return svmTable"
   ]
  },
  {
   "cell_type": "code",
   "execution_count": 83,
   "metadata": {},
   "outputs": [],
   "source": [
    "svm1 = get_SVM_Table(intra1,inter1)"
   ]
  },
  {
   "cell_type": "code",
   "execution_count": 84,
   "metadata": {},
   "outputs": [],
   "source": [
    "#all_svm = pd.concat([svm1, svm2], ignore_index=True)"
   ]
  },
  {
   "cell_type": "code",
   "execution_count": 85,
   "metadata": {},
   "outputs": [],
   "source": [
    "from sklearn.svm import SVC\n",
    "from sklearn.model_selection import train_test_split\n",
    "from sklearn.metrics import confusion_matrix, classification_report, accuracy_score"
   ]
  },
  {
   "cell_type": "code",
   "execution_count": 159,
   "metadata": {},
   "outputs": [],
   "source": [
    "def svmTest(svm):\n",
    "    X = svm.drop(['Subject','Type'], axis=1)\n",
    "    y = svm[\"Type\"]\n",
    "    X_train, X_test, y_train, y_test = train_test_split(X, y, test_size=0.3, random_state=101)\n",
    "    \n",
    "    model = SVC(C=1.0, kernel = 'rbf', degree=3, gamma='auto')\n",
    "    model.fit(X_train, y_train)\n",
    "    prediction = model.predict(X_test)\n",
    "    confusionMatrix = confusion_matrix(y_test, prediction)\n",
    "    print(confusionMatrix)\n",
    "    print(classification_report(y_test, prediction))\n",
    "    print(\"Accuracy: \"+str(accuracy_score(y_test, prediction)))\n",
    "    return confusionMatrix, model"
   ]
  },
  {
   "cell_type": "code",
   "execution_count": 172,
   "metadata": {
    "scrolled": false
   },
   "outputs": [
    {
     "name": "stdout",
     "output_type": "stream",
     "text": [
      "[[444 129]\n",
      " [194 373]]\n",
      "              precision    recall  f1-score   support\n",
      "\n",
      "         0.0       0.70      0.77      0.73       573\n",
      "         1.0       0.74      0.66      0.70       567\n",
      "\n",
      "   micro avg       0.72      0.72      0.72      1140\n",
      "   macro avg       0.72      0.72      0.72      1140\n",
      "weighted avg       0.72      0.72      0.72      1140\n",
      "\n",
      "Accuracy: 0.7166666666666667\n"
     ]
    }
   ],
   "source": [
    "cm, model = svmTest(svm1)"
   ]
  },
  {
   "cell_type": "code",
   "execution_count": 173,
   "metadata": {},
   "outputs": [
    {
     "name": "stdout",
     "output_type": "stream",
     "text": [
      "False Acceptance: 0.11315789473684211\n",
      "False Rejection: 0.17017543859649123\n",
      "0.7166666666666667\n"
     ]
    }
   ],
   "source": [
    "TN = cm[0][0]\n",
    "FN = cm[1][0]\n",
    "TP = cm[1][1]\n",
    "FP = cm[0][1]\n",
    "sums = TN+TP+FN+FP\n",
    "\n",
    "acc = (TN+TP)/sums\n",
    "\n",
    "print('False Acceptance: '+str(FP/sums))\n",
    "print('False Rejection: '+str(FN/sums))\n",
    "print(acc)"
   ]
  },
  {
   "cell_type": "code",
   "execution_count": 150,
   "metadata": {},
   "outputs": [],
   "source": [
    "#df1 = pd.DataFrame(columns = columns)\n",
    "#data = loadRawData(12,\"VR\")\n",
    "#f = getFeatures(raw=data, time=(140,145))\n",
    "#df1 = getDataFrame(f,df1,12)\n",
    "\n",
    "#df2 = pd.DataFrame(columns = columns)\n",
    "#data = loadRawData(29,\"VR\")\n",
    "#f = getFeatures(raw=data, time=(145,150))\n",
    "#df2 = getDataFrame(f,df2,29)"
   ]
  },
  {
   "cell_type": "code",
   "execution_count": 151,
   "metadata": {},
   "outputs": [],
   "source": [
    "def classify(test):\n",
    "    if(model.predict([test]))==0:\n",
    "        return True\n",
    "    else:\n",
    "        return False"
   ]
  },
  {
   "cell_type": "code",
   "execution_count": 152,
   "metadata": {},
   "outputs": [],
   "source": [
    "#dft = pd.DataFrame(columns = columns)\n",
    "#dft = pd.concat([df1,df2], ignore_index=True)"
   ]
  },
  {
   "cell_type": "code",
   "execution_count": 153,
   "metadata": {},
   "outputs": [],
   "source": [
    "#test = absDistance(dft, feature_list, 0, 1)\n",
    "#test"
   ]
  },
  {
   "cell_type": "code",
   "execution_count": 154,
   "metadata": {},
   "outputs": [],
   "source": [
    "#print(classify(test))"
   ]
  },
  {
   "cell_type": "code",
   "execution_count": 155,
   "metadata": {},
   "outputs": [],
   "source": [
    "#dft"
   ]
  },
  {
   "cell_type": "code",
   "execution_count": null,
   "metadata": {},
   "outputs": [],
   "source": []
  },
  {
   "cell_type": "code",
   "execution_count": null,
   "metadata": {},
   "outputs": [],
   "source": []
  },
  {
   "cell_type": "code",
   "execution_count": null,
   "metadata": {},
   "outputs": [],
   "source": []
  }
 ],
 "metadata": {
  "kernelspec": {
   "display_name": "Python 3",
   "language": "python",
   "name": "python3"
  },
  "language_info": {
   "codemirror_mode": {
    "name": "ipython",
    "version": 3
   },
   "file_extension": ".py",
   "mimetype": "text/x-python",
   "name": "python",
   "nbconvert_exporter": "python",
   "pygments_lexer": "ipython3",
   "version": "3.7.2"
  }
 },
 "nbformat": 4,
 "nbformat_minor": 2
}

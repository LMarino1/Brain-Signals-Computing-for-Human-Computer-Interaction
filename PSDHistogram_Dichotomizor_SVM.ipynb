{
 "cells": [
  {
   "cell_type": "code",
   "execution_count": 1,
   "metadata": {},
   "outputs": [
    {
     "data": {
      "text/plain": [
       "<mne.utils.use_log_level at 0x107640208>"
      ]
     },
     "execution_count": 1,
     "metadata": {},
     "output_type": "execute_result"
    }
   ],
   "source": [
    "import mne\n",
    "import pandas as pd\n",
    "import matplotlib.pyplot as plt\n",
    "import numpy as np\n",
    "import itertools\n",
    "from scipy import signal\n",
    "from scipy.stats import entropy\n",
    "mne.utils.use_log_level('error')"
   ]
  },
  {
   "cell_type": "code",
   "execution_count": 2,
   "metadata": {},
   "outputs": [],
   "source": [
    "#Add new featres in feature list and again in getFeatures method's \"flist\"\n",
    "feature_list = ['PSD Mean', 'PSD Median', 'PSD StdDev','PSD CoV','PSD Skew','PSD Kurt', 'PSE']\n",
    "columns = ['Subject','Test', 'Channel', *feature_list]"
   ]
  },
  {
   "cell_type": "code",
   "execution_count": 3,
   "metadata": {},
   "outputs": [],
   "source": [
    "#subject = subject number\n",
    "#testtype = VR or Non-VR\n",
    "def loadRawData(subject, testtype):\n",
    "    path = \"Preprocessed_Data/Subject-\"+str(subject)+\"_\"+testtype+\".fif\"\n",
    "    raw = mne.io.read_raw_fif(path, verbose='error')\n",
    "    return raw\n",
    "\n",
    "def getFeatures(raw, time):\n",
    "    features = pd.DataFrame(columns = feature_list)\n",
    "    for i in range(time[0],time[1],5): \n",
    "        start, stop = raw.time_as_index([i, i+5])\n",
    "        \n",
    "        #only looking at CH 4\n",
    "        picks = mne.pick_types(raw.info, eeg=True, exclude=['CH 1','CH 2','CH 3','CH 5','CH 6','CH 7','CH 8'])\n",
    "        \n",
    "        try:    \n",
    "            d, t = raw[picks[:], start:stop]\n",
    "            ds = pd.DataFrame(d[0])\n",
    "            #normalize\n",
    "            #ds = (ds-ds.mean())/(ds.max()-ds.min())\n",
    "            \n",
    "            freq, psd = signal.welch(ds[0], 128, nperseg=256) #nperseg is 2*sf\n",
    "            \n",
    "            dp = pd.DataFrame(psd[:41])\n",
    "            mean = dp.mean()[0]\n",
    "            median = dp.median()[0]\n",
    "            std = dp.std()[0]\n",
    "            mos = mean/std\n",
    "            skew = dp.skew()[0]\n",
    "            kurt = dp.kurt()[0]\n",
    "            pse = entropy(psd)\n",
    "            \n",
    "            #add new features here too \n",
    "            flist = [mean, median, std, mos, skew, kurt, pse]\n",
    "            features = features.append(pd.Series(flist, index=feature_list), ignore_index=True)\n",
    "        except:\n",
    "            continue\n",
    "    return features\n",
    "\n",
    "def getDataFrame(f, data):\n",
    "    for j in range(len(f)):\n",
    "        fl = [None]*len(feature_list)\n",
    "        k=0\n",
    "        for feature in feature_list:\n",
    "            fl[k] = f[feature][j]\n",
    "            k+=1\n",
    "        data = data.append(pd.Series([i, 'VR', 'CH 4', *fl], index=columns), ignore_index=True)\n",
    "    return data\n",
    "\n",
    "def getDiff(df):\n",
    "    diffDF = df.copy()\n",
    "    if('Subject' in df.columns):\n",
    "        diffDF.drop(['Subject'], axis=1, inplace=True)\n",
    "        diffDF.drop(['Test'], axis=1, inplace=True)\n",
    "        diffDF.drop(['Channel'], axis=1, inplace=True)\n",
    "    diffDF = diffDF.diff().dropna()\n",
    "    return diffDF"
   ]
  },
  {
   "cell_type": "code",
   "execution_count": 4,
   "metadata": {},
   "outputs": [],
   "source": [
    "#Test 1\n",
    "#testtype = VR or Non-VR\n",
    "df1 = pd.DataFrame(columns = columns)\n",
    "for i in range(1,33):\n",
    "    data = loadRawData(i,\"VR\")\n",
    "    f = getFeatures(raw=data, time=(60,120))\n",
    "    df1 = getDataFrame(f,df1)"
   ]
  },
  {
   "cell_type": "code",
   "execution_count": 5,
   "metadata": {},
   "outputs": [],
   "source": [
    "df = df1"
   ]
  },
  {
   "cell_type": "code",
   "execution_count": 6,
   "metadata": {},
   "outputs": [],
   "source": [
    "#feature_list = ['PSD Mean', 'PSD Median', 'PSD StdDev','PSD CoV','PSD Skew','PSD Kurt', 'PSE', \n",
    "#                'Dif1 PSD Mean', 'Dif1 PSD Median', 'Dif1 PSD StdDev','Dif1 PSD CoV','Dif1 PSD Skew','Dif1 PSD Kurt', 'Dif1 PSE',\n",
    "#                'Dif2 PSD Mean', 'Dif2 PSD Median', 'Dif2 PSD StdDev','Dif2 PSD CoV','Dif2 PSD Skew','Dif2 PSD Kurt', 'Dif2 PSE']\n",
    "#columns = ['Subject','Test', 'Channel', *feature_list]\n",
    "\n",
    "#df = pd.concat([df1, df2, df3], axis=1)\n",
    "#df.columns = columns\n",
    "#df = df.dropna()"
   ]
  },
  {
   "cell_type": "code",
   "execution_count": 7,
   "metadata": {},
   "outputs": [],
   "source": [
    "def distanceCalculation(df):\n",
    "    subs = df['Subject'].unique()    # All subjects\n",
    "    all_subs= list(itertools.combinations(subs, 2)) # All possible combination for all subjects\n",
    "\n",
    "    distance_col = ['Subject',*feature_list, 'Type']\n",
    "    intra_data = pd.DataFrame(columns = distance_col)\n",
    "\n",
    "    #Intra Distance Computation (Same Person)\n",
    "    for sub in subs:\n",
    "        rows = df.loc[df['Subject'] == sub]\n",
    "        each_comb = list(itertools.combinations(rows.index, 2))\n",
    "        for i in range(len(each_comb)):\n",
    "            comb = each_comb[i]\n",
    "            fdr = absDistance(df, feature_list, comb[0], comb[1])\n",
    "            intra_data = intra_data.append(pd.Series([sub,*fdr,0], index=distance_col), ignore_index=True)\n",
    "    \n",
    "    inter_data = pd.DataFrame(columns = distance_col)\n",
    "    # Inter Distance Computation (Different Person) \n",
    "    all_rows=len(df)\n",
    "    for sub_pair in all_subs: # Pairs of subjets\n",
    "        sp1 = df.loc[df['Subject'] == sub_pair[0]].index\n",
    "        sp2 = df.loc[df['Subject'] == sub_pair[1]].index\n",
    "        for i in range(len(sp1)):\n",
    "            for j in range(len(sp2)):\n",
    "                fdr = absDistance(df, feature_list, sp1[i], sp2[j])\n",
    "                inter_data = inter_data.append(pd.Series([sub_pair, *fdr, 1], index=distance_col), ignore_index=True)    \n",
    "    return intra_data, inter_data\n",
    "\n",
    "def absDistance(df, features, s1, s2):\n",
    "    r=0\n",
    "    fdr = [None]*len(features)\n",
    "    for feature in features:\n",
    "        f1 = df.iloc[s1][feature] \n",
    "        f2 = df.iloc[s2][feature] \n",
    "        Inter_dis = np.absolute(f1-f2) # absolute difference\n",
    "        fdr[r] = Inter_dis\n",
    "        r+=1\n",
    "    return fdr"
   ]
  },
  {
   "cell_type": "code",
   "execution_count": 8,
   "metadata": {},
   "outputs": [],
   "source": [
    "#15 min to run both (6 fetures), 18 min (8 features) - 4/17\n",
    "intra1, inter1 = distanceCalculation(df)"
   ]
  },
  {
   "cell_type": "code",
   "execution_count": 9,
   "metadata": {},
   "outputs": [
    {
     "name": "stdout",
     "output_type": "stream",
     "text": [
      "Intra length: 1914\n",
      "Inter length: 58464\n"
     ]
    }
   ],
   "source": [
    "print(\"Intra length: \"+str(len(intra1)))\n",
    "print(\"Inter length: \"+str(len(inter1)))"
   ]
  },
  {
   "cell_type": "code",
   "execution_count": 10,
   "metadata": {},
   "outputs": [],
   "source": [
    "import random\n",
    "random.seed(1234)\n",
    "#takes subframe and returns a more managble table for SVM\n",
    "def get_SVM_Table(intra, inter):\n",
    "    svmTable = pd.DataFrame()\n",
    "    rands = random.sample(range(0, len(intra)), 1800)\n",
    "    for rand in rands:\n",
    "        svmTable = svmTable.append(intra.iloc[rand],ignore_index=True)\n",
    "    \n",
    "    rands = random.sample(range(0, len(inter)), 1800)\n",
    "    for rand in rands:\n",
    "        svmTable = svmTable.append(inter.iloc[rand],ignore_index=True)\n",
    "    return svmTable"
   ]
  },
  {
   "cell_type": "code",
   "execution_count": 11,
   "metadata": {},
   "outputs": [],
   "source": [
    "svm1 = get_SVM_Table(intra1,inter1)"
   ]
  },
  {
   "cell_type": "code",
   "execution_count": 12,
   "metadata": {},
   "outputs": [],
   "source": [
    "#all_svm = pd.concat([svm1, svm2], ignore_index=True)"
   ]
  },
  {
   "cell_type": "code",
   "execution_count": 13,
   "metadata": {},
   "outputs": [],
   "source": [
    "from sklearn.svm import SVC\n",
    "from sklearn.model_selection import train_test_split\n",
    "from sklearn.metrics import confusion_matrix, classification_report, accuracy_score"
   ]
  },
  {
   "cell_type": "code",
   "execution_count": 14,
   "metadata": {},
   "outputs": [],
   "source": [
    "def svmTest(svm):\n",
    "    X = svm.drop(['Subject','Type'], axis=1)\n",
    "    y = svm[\"Type\"]\n",
    "    X_train, X_test, y_train, y_test = train_test_split(X, y, test_size=0.3, random_state=101)\n",
    "    \n",
    "    model = SVC(C=1.0, kernel = 'rbf', degree=3, gamma='auto')\n",
    "    model.fit(X_train, y_train)\n",
    "    prediction = model.predict(X_test)\n",
    "    confusionMatrix = confusion_matrix(y_test, prediction)\n",
    "    print(confusionMatrix)\n",
    "    print(classification_report(y_test, prediction))\n",
    "    print(\"Accuracy: \"+str(accuracy_score(y_test, prediction)))\n",
    "    return confusionMatrix, model"
   ]
  },
  {
   "cell_type": "code",
   "execution_count": 15,
   "metadata": {
    "scrolled": false
   },
   "outputs": [
    {
     "name": "stdout",
     "output_type": "stream",
     "text": [
      "[[402 151]\n",
      " [163 364]]\n",
      "              precision    recall  f1-score   support\n",
      "\n",
      "         0.0       0.71      0.73      0.72       553\n",
      "         1.0       0.71      0.69      0.70       527\n",
      "\n",
      "   micro avg       0.71      0.71      0.71      1080\n",
      "   macro avg       0.71      0.71      0.71      1080\n",
      "weighted avg       0.71      0.71      0.71      1080\n",
      "\n",
      "Accuracy: 0.7092592592592593\n"
     ]
    }
   ],
   "source": [
    "cm, model = svmTest(svm1)"
   ]
  },
  {
   "cell_type": "code",
   "execution_count": 16,
   "metadata": {},
   "outputs": [
    {
     "name": "stdout",
     "output_type": "stream",
     "text": [
      "False Acceptance: 0.1398148148148148\n",
      "False Rejection: 0.15092592592592594\n",
      "0.7092592592592593\n"
     ]
    }
   ],
   "source": [
    "TN = cm[0][0]\n",
    "FN = cm[1][0]\n",
    "TP = cm[1][1]\n",
    "FP = cm[0][1]\n",
    "sums = TN+TP+FN+FP\n",
    "\n",
    "acc = (TN+TP)/sums\n",
    "\n",
    "print('False Acceptance: '+str(FP/sums))\n",
    "print('False Rejection: '+str(FN/sums))\n",
    "print(acc)"
   ]
  },
  {
   "cell_type": "code",
   "execution_count": null,
   "metadata": {},
   "outputs": [],
   "source": []
  },
  {
   "cell_type": "code",
   "execution_count": null,
   "metadata": {},
   "outputs": [],
   "source": []
  }
 ],
 "metadata": {
  "kernelspec": {
   "display_name": "Python 3",
   "language": "python",
   "name": "python3"
  },
  "language_info": {
   "codemirror_mode": {
    "name": "ipython",
    "version": 3
   },
   "file_extension": ".py",
   "mimetype": "text/x-python",
   "name": "python",
   "nbconvert_exporter": "python",
   "pygments_lexer": "ipython3",
   "version": "3.7.2"
  }
 },
 "nbformat": 4,
 "nbformat_minor": 2
}
